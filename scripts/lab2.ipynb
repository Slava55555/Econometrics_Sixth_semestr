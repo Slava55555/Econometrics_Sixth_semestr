{
 "cells": [
  {
   "cell_type": "code",
   "execution_count": 3,
   "metadata": {},
   "outputs": [],
   "source": [
    "import numpy as np\n",
    "import pandas as pd"
   ]
  },
  {
   "cell_type": "code",
   "execution_count": 11,
   "metadata": {},
   "outputs": [],
   "source": [
    "%store -r data\n",
    "%store -r n"
   ]
  },
  {
   "cell_type": "markdown",
   "metadata": {},
   "source": [
    "Найдем несмещёные оценки матожиадния и дисперсии:\n",
    "\n",
    "$\\hat{\\mu} = \\overline{X} = \\sum_{i=1}^n X_i$\n",
    "\n",
    "$\\hat{\\sigma^2} = \\frac{1}{n-1} \\sum_{i=1}^n (X_i - \\overline{X})^2$"
   ]
  },
  {
   "cell_type": "code",
   "execution_count": 12,
   "metadata": {},
   "outputs": [
    {
     "name": "stdout",
     "output_type": "stream",
     "text": [
      "Оценка матожидания:  14.154545454545454\n",
      "Оценка дисперсии:  11.728190158465388\n"
     ]
    }
   ],
   "source": [
    "a = np.sum(data) / n\n",
    "d = np.sum((data - a) ** 2) / (n - 1)\n",
    "\n",
    "print(\"Оценка матожидания: \", a)\n",
    "print(\"Оценка дисперсии: \", d)\n"
   ]
  },
  {
   "cell_type": "markdown",
   "metadata": {},
   "source": [
    "Найдем доверительный интервал в 95% для наших характеристик по формулам:\n",
    "### Для матожидания:\n",
    "\n",
    "$\\hat{\\mu} = \\overline{X} \\pm t_{n, \\alpha} * \\frac{\\sigma}{\\sqrt{n}}$\n",
    "\n",
    "где $t_{n, \\alpha}$ коэффицент Стьюдента.\n",
    "\n",
    "В нашем случае $t_{110, 0.95} = 1.99$\n",
    "\n",
    "### Для дисперсии:\n",
    "\n",
    "$\\frac{(n-1) S}{\\chi^2_{\\alpha/2, n-1}} \\leq \\hat{\\sigma^2} \\leq \\frac{(n-1) S}{\\chi^2_{1 - \\alpha/2, n-1}}$\n",
    "\n",
    "где $S$ несмещеная оценка дисперссии,\n",
    "\n",
    "а $\\chi^2_{\\beta , m}$ квантили распределения хи-квадрат.\n",
    "\n",
    "В нашем случае $\\chi^2_{0.025, 100} = 74.22$ и \n",
    "$\\chi^2_{0.975, 100} = 129.6$\n",
    "\n",
    "\n"
   ]
  },
  {
   "cell_type": "code",
   "execution_count": 15,
   "metadata": {},
   "outputs": [
    {
     "name": "stdout",
     "output_type": "stream",
     "text": [
      "Оценка матожидания:  14.154545454545454 +- 0.6497888177675938\n",
      "Оценка дисперсии:  9.863987093153762 < d^2 < 17.224100340511015\n"
     ]
    }
   ],
   "source": [
    "t = 1.99\n",
    "Xi_1 = 74.22\n",
    "Xi_2 = 129.6\n",
    "\n",
    "print(\"Оценка матожидания: \", a, \"+-\", t * (d / n) ** 0.5)\n",
    "print(\"Оценка дисперсии: \", (n- 1) *d / Xi_2, \"< d^2 <\", (n- 1) *d / Xi_1 )"
   ]
  },
  {
   "cell_type": "markdown",
   "metadata": {},
   "source": [
    "# Метод моментов\n",
    "Пусть $\\xi \\in Равномерное [0, \\Theta]$\n",
    "\n",
    "По методу моментов $E\\xi = \\overline{X}$\n",
    "\n",
    "Тогда $\\frac{\\Theta}{2} = \\overline{X}$ значит $\\Theta = 2\\overline{X}$\n",
    "\n",
    "Что и требовалось найти"
   ]
  },
  {
   "cell_type": "markdown",
   "metadata": {},
   "source": [
    "# Метод максимального правдоподобия\n",
    "\n",
    "Пусть $\\{x_i\\}_{i=1}^n$ выборка из $Norm(a, 1)$\n",
    "\n",
    "Тогда $L_a(x_1, ... ,x_n) = \\prod_{i=1}^n\\frac{1}{\\sqrt{2\\pi}}exp({-\\frac{1}{2}(x - a)^2}) \\rightarrow max$\n",
    "\n",
    "Эквывалентно $ln(L_a) = - n * ln(\\sqrt{2\\pi})- \\sum^n_{i=1}\\frac{1}{2}(x - a)^2 \\rightarrow max$\n",
    "\n",
    "Найдем производную $0 = (ln(L_a))'_a = \\sum^n_{i=1} (x-a)$\n",
    "\n",
    "Тогда $a = \\overline{X}$\n",
    "\n",
    "Что и требовалось найти"
   ]
  }
 ],
 "metadata": {
  "kernelspec": {
   "display_name": "env",
   "language": "python",
   "name": "python3"
  },
  "language_info": {
   "codemirror_mode": {
    "name": "ipython",
    "version": 3
   },
   "file_extension": ".py",
   "mimetype": "text/x-python",
   "name": "python",
   "nbconvert_exporter": "python",
   "pygments_lexer": "ipython3",
   "version": "3.12.3"
  }
 },
 "nbformat": 4,
 "nbformat_minor": 2
}
