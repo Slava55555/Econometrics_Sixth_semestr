{
 "cells": [
  {
   "cell_type": "code",
   "execution_count": 6,
   "id": "3a827d32-13d9-460d-9655-e862425df70e",
   "metadata": {},
   "outputs": [],
   "source": [
    "import math\n",
    "from bisect import bisect_left\n",
    "from collections import Counter\n",
    "import matplotlib.pyplot as plt\n",
    "import pandas as pd\n",
    "from tabulate import tabulate\n",
    "import numpy as np"
   ]
  },
  {
   "cell_type": "raw",
   "id": "a4d83db8-13ae-4c00-b8f2-8c05b7bdee2c",
   "metadata": {},
   "source": [
    "Задание № 1\n",
    "Провести эксперимент, записать результаты наблюдений в порядке их\n",
    "регистрации."
   ]
  },
  {
   "cell_type": "code",
   "execution_count": 7,
   "id": "099c566a-304f-41a7-9c69-28f0370d0bdb",
   "metadata": {},
   "outputs": [
    {
     "name": "stdout",
     "output_type": "stream",
     "text": [
      "Stored 'data' (ndarray)\n",
      "Stored 'n' (int)\n"
     ]
    }
   ],
   "source": [
    "file = open(\"../data/final.txt\")\n",
    "data = []\n",
    "for num in file:\n",
    "    data.append(int(num))\n",
    "n = len(data)\n",
    "data = np.array(data)\n",
    "%store data\n",
    "%store n"
   ]
  },
  {
   "cell_type": "raw",
   "id": "216af2c2-1381-41ca-8a5a-fec59728f0f6",
   "metadata": {},
   "source": [
    "Задание №2\n",
    "Записать выборку в виде вариационного и статистического рядов."
   ]
  },
  {
   "cell_type": "code",
   "execution_count": 72,
   "id": "6c4ef6de-53d7-41c6-9f33-0998c09d1295",
   "metadata": {},
   "outputs": [
    {
     "name": "stdout",
     "output_type": "stream",
     "text": [
      "7 8 8 8 8 9 9 9 9 9 10 10 10 10 10 11 11 11 11 11 11 11 11 11 11 11 11 11 12 12 12 12 12 12 12 12 12 12 13 13 13 13 13 13 13 13 13 13 13 13 13 13 14 14 14 14 14 14 14 14 14 15 15 15 15 15 15 15 15 16 16 16 16 16 16 16 16 16 17 17 17 17 17 17 17 17 17 17 18 18 18 18 18 18 18 18 18 18 19 19 19 19 19 20 20 20 20 20 21 22\n",
      "+---+---+---+----+----+----+----+----+----+----+----+----+----+----+----+----+\n",
      "| 7 | 8 | 9 | 10 | 11 | 12 | 13 | 14 | 15 | 16 | 17 | 18 | 19 | 20 | 21 | 22 |\n",
      "+---+---+---+----+----+----+----+----+----+----+----+----+----+----+----+----+\n",
      "| 1 | 4 | 5 |  5 | 13 | 10 | 14 |  9 |  8 |  9 | 10 | 10 |  5 |  5 |  1 |  1 |\n",
      "+---+---+---+----+----+----+----+----+----+----+----+----+----+----+----+----+\n"
     ]
    }
   ],
   "source": [
    "data.sort()\n",
    "statistical = Counter(data)\n",
    "data_2 = [statistical.keys(), statistical.values()]\n",
    "print(*data)\n",
    "print(tabulate(data_2, tablefmt=\"grid\"))"
   ]
  },
  {
   "cell_type": "raw",
   "id": "8ce7518f-b125-405c-9478-156a5f03b956",
   "metadata": {},
   "source": [
    "Задание №3\n",
    "Представить выборку в виде таблицы частот."
   ]
  },
  {
   "cell_type": "code",
   "execution_count": 70,
   "id": "87bb7ec3-507c-4985-9214-55f8f9fd817c",
   "metadata": {},
   "outputs": [],
   "source": [
    "R = data[-1] - data[0]\n",
    "k = (1 + math.log2(n))\n",
    "h = round(R / k)\n",
    "k = round(k)\n",
    "intervals = [[data[0], data[0] + h]]\n",
    "intervals_count = [0]\n",
    "mid_intervals = [(2 * data[0] + h) / 2]\n",
    "for nums, count in statistical.items():\n",
    "    if intervals[-1][-1] <= nums:\n",
    "        intervals.append([nums, nums + h])\n",
    "        mid_intervals.append((2 * nums + h) / 2)\n",
    "        intervals_count.append(count)\n",
    "    else:\n",
    "        intervals_count[-1] += count\n",
    "rate = [intervals, intervals_count]\n",
    "rate_pref = []\n",
    "relative_rate = []\n",
    "relative_rate_pref = []\n",
    "for num in intervals_count:\n",
    "    relative_rate.append(num / n)\n",
    "    if len(rate_pref) == 0:\n",
    "        rate_pref.append(num)\n",
    "        relative_rate_pref.append(relative_rate[-1])\n",
    "    else:\n",
    "        relative_rate_pref.append(relative_rate[-1] + relative_rate_pref[-1])\n",
    "        rate_pref.append(num + rate_pref[-1])"
   ]
  },
  {
   "cell_type": "code",
   "execution_count": 71,
   "id": "ba5d0aae-0226-42b7-8c5a-c603b9630ef7",
   "metadata": {},
   "outputs": [
    {
     "name": "stdout",
     "output_type": "stream",
     "text": [
      "+--------+---------+----------+----------+----------+----------+----------+----------+\n",
      "| [7, 9] | [9, 11] | [11, 13] | [13, 15] | [15, 17] | [17, 19] | [19, 21] | [21, 23] |\n",
      "+--------+---------+----------+----------+----------+----------+----------+----------+\n",
      "| 5      | 10      | 23       | 23       | 17       | 20       | 10       | 2        |\n",
      "+--------+---------+----------+----------+----------+----------+----------+----------+\n"
     ]
    }
   ],
   "source": [
    "print(tabulate(rate, tablefmt=\"grid\"))"
   ]
  },
  {
   "cell_type": "code",
   "execution_count": 47,
   "id": "9b4cd908-cbe2-4231-844f-dc3c7e3f1ef1",
   "metadata": {},
   "outputs": [
    {
     "name": "stdout",
     "output_type": "stream",
     "text": [
      "  Границы интервалов  Середина интервала  Частота  Накопленная частота  Относительная частота  Накопительная относительная частота\n",
      "0              7 - 9                 8.0        5                    5               0.045455                             0.045455\n",
      "1             9 - 11                10.0       10                   15               0.090909                             0.136364\n",
      "2            11 - 13                12.0       23                   38               0.209091                             0.345455\n",
      "3            13 - 15                14.0       23                   61               0.209091                             0.554545\n",
      "4            15 - 17                16.0       17                   78               0.154545                             0.709091\n",
      "5            17 - 19                18.0       20                   98               0.181818                             0.890909\n",
      "6            19 - 21                20.0       10                  108               0.090909                             0.981818\n",
      "7            21 - 23                22.0        2                  110               0.018182                             1.000000\n"
     ]
    }
   ],
   "source": [
    "data_3 = pd.DataFrame({\"Границы интервалов\" : [f'{start} - {end}' for start, end  in intervals],\n",
    "                       \"Середина интервала\" : mid_intervals,\n",
    "                       \"Частота\" : intervals_count,\n",
    "                       \"Накопленная частота\" : rate_pref,\n",
    "                       \"Относительная частота\" : relative_rate,\n",
    "                       \"Накопительная относительная частота\" : relative_rate_pref\n",
    "                       })\n",
    "pd.set_option('display.max_rows', None)  # Отображать все строки\n",
    "pd.set_option('display.max_columns', None)  # Отображать все столбцы\n",
    "pd.set_option('display.expand_frame_repr', False)  # Отключаем перенос таблицы на новую строку\n",
    "print(data_3)"
   ]
  },
  {
   "cell_type": "raw",
   "id": "552f189a-7eed-4025-adc2-626e9ede93ff",
   "metadata": {},
   "source": [
    "Задание №4\n",
    "Построить гистограмму и полигон частот."
   ]
  },
  {
   "cell_type": "code",
   "execution_count": 59,
   "id": "a60f0fb0-89ef-4741-879e-27994909a62f",
   "metadata": {},
   "outputs": [
    {
     "data": {
      "image/png": "[encoded data removed]",
      "text/plain": [
       "<Figure size 640x480 with 1 Axes>"
      ]
     },
     "metadata": {},
     "output_type": "display_data"
    },
    {
     "data": {
      "text/plain": [
       "<Figure size 640x480 with 0 Axes>"
      ]
     },
     "metadata": {},
     "output_type": "display_data"
    }
   ],
   "source": [
    "plt.plot(mid_intervals,intervals_count, marker='o')\n",
    "plt.grid(linestyle=\"-\",linewidth=0.5, alpha=0.7)\n",
    "plt.title('Полигон частот')\n",
    "plt.xlabel('Середина интервала')\n",
    "plt.ylabel('Частота')\n",
    "plt.show()\n",
    "plt.clf()"
   ]
  },
  {
   "cell_type": "code",
   "execution_count": 60,
   "id": "06744089-090d-4bf2-b049-490565d00279",
   "metadata": {},
   "outputs": [
    {
     "data": {
      "image/png": "[encoded data removed]",
      "text/plain": [
       "<Figure size 640x480 with 1 Axes>"
      ]
     },
     "metadata": {},
     "output_type": "display_data"
    },
    {
     "data": {
      "text/plain": [
       "<Figure size 640x480 with 0 Axes>"
      ]
     },
     "metadata": {},
     "output_type": "display_data"
    }
   ],
   "source": [
    "widths = [segment[1] - segment[0] for segment in intervals]\n",
    "x = [segment[0] for segment in intervals]\n",
    "y = [num / h for num in intervals_count]\n",
    "plt.bar(x, y, width=widths, color='gray', edgecolor='black', align=\"edge\")\n",
    "plt.title(\"Гистограмма частот\")\n",
    "plt.ylabel(\"Ni/ h\")\n",
    "plt.xlabel(\"Xi\")\n",
    "plt.show()\n",
    "plt.clf()"
   ]
  },
  {
   "cell_type": "raw",
   "id": "2653683e-15fc-42eb-9abd-7c61d49fdb3b",
   "metadata": {},
   "source": [
    "Задание №5\n",
    "Построить график эмпирической функции распределения."
   ]
  },
  {
   "cell_type": "code",
   "execution_count": 61,
   "id": "78ed36a0-64e6-492e-ac39-d416cc1777ef",
   "metadata": {},
   "outputs": [
    {
     "data": {
      "image/png": "[encoded data removed]",
      "text/plain": [
       "<Figure size 640x480 with 1 Axes>"
      ]
     },
     "metadata": {},
     "output_type": "display_data"
    },
    {
     "data": {
      "text/plain": [
       "<Figure size 640x480 with 0 Axes>"
      ]
     },
     "metadata": {},
     "output_type": "display_data"
    }
   ],
   "source": [
    "data_5_x = np.linspace(0, data[-1], 10000)\n",
    "relative_rate_pref = [0] + relative_rate_pref\n",
    "data_5_y = [relative_rate_pref[bisect_left(mid_intervals, num)] for num in data_5_x]\n",
    "plt.plot(data_5_x,data_5_y, marker=\"o\", linestyle='None')\n",
    "plt.title(\"График эмпирической функции распределения\")\n",
    "plt.xlabel(\"X\")\n",
    "plt.ylabel(\"F*(x) = n(x) / n\")\n",
    "plt.show()\n",
    "plt.clf()"
   ]
  },
  {
   "cell_type": "raw",
   "id": "9b1dc6aa-7b97-4386-9f18-8325aee8fff8",
   "metadata": {},
   "source": [
    "Задание №6\n",
    "Вычислить моду, медиану, среднее и дисперсию, к-ты асимметрии и\n",
    "эксцесса для группированной выборки."
   ]
  },
  {
   "cell_type": "code",
   "execution_count": 62,
   "id": "f84d2a97-7640-417e-b2a7-8a94de9b77b3",
   "metadata": {},
   "outputs": [
    {
     "name": "stdout",
     "output_type": "stream",
     "text": [
      "Мода:  [13.0, 13.0]\n"
     ]
    }
   ],
   "source": [
    "mod = []\n",
    "max_element = max(intervals_count)\n",
    "for i in range(len(intervals_count)):\n",
    "    if intervals_count[i] == max_element:\n",
    "        mod.append(i)\n",
    "X_mod = []\n",
    "for idx in mod:\n",
    "    ans = (intervals[idx][0] + h * (intervals_count[idx] - intervals_count[idx - 1]) /\n",
    "           ((intervals_count[idx] - intervals_count[idx - 1]) + (intervals_count[idx] - intervals_count[idx + 1])))\n",
    "    X_mod.append(ans)\n",
    "print(\"Мода: \",X_mod)"
   ]
  },
  {
   "cell_type": "code",
   "execution_count": 63,
   "id": "e78d95a2-7861-447b-adc1-836ca3a07bae",
   "metadata": {},
   "outputs": [
    {
     "name": "stdout",
     "output_type": "stream",
     "text": [
      "Медианы: [14, 14] 14.478260869565217\n"
     ]
    }
   ],
   "source": [
    "X_med1 = [data[n//2], data[n//2 + 1]]\n",
    "med = -1\n",
    "for i in range(len(rate_pref)):\n",
    "    if rate_pref[i] > rate_pref[-1] // 2:\n",
    "        med = i\n",
    "        break\n",
    "X_med2 = intervals[med][0] + h * (n / 2 - rate_pref[med - 1]) / intervals_count[med]\n",
    "print(\"Медианы:\", X_med1, X_med2)"
   ]
  },
  {
   "cell_type": "code",
   "execution_count": 64,
   "id": "f9c6b261-3612-461a-b909-92b089e054f6",
   "metadata": {},
   "outputs": [
    {
     "name": "stdout",
     "output_type": "stream",
     "text": [
      "Арифмитическое(выборочное) среднее: 14.154545454545454 14.154545454545454 14.672727272727272\n"
     ]
    }
   ],
   "source": [
    "X_mid_var = sum(data) / n\n",
    "X_mid_stat = sum([num * count for num, count in statistical.items()]) / n\n",
    "X_mid_eq_point = sum([mid_intervals[i] * intervals_count[i] for i in range(len(mid_intervals))]) / n\n",
    "print(\"Арифмитическое(выборочное) среднее:\", X_mid_var, X_mid_stat, X_mid_eq_point)\n"
   ]
  },
  {
   "cell_type": "code",
   "execution_count": 65,
   "id": "0fe6475f-17d3-4a7e-9bb2-1a9218e98e5f",
   "metadata": {},
   "outputs": [
    {
     "name": "stdout",
     "output_type": "stream",
     "text": [
      "Дисперсия: 11.621570247933883 11.438347107438016\n"
     ]
    }
   ],
   "source": [
    "D_stat = sum([(num - X_mid_stat) ** 2 for num in data]) / n\n",
    "D_eq_point = sum([(mid_intervals[i] - X_mid_eq_point) ** 2 * intervals_count[i] for i in range(len(mid_intervals))]) / n\n",
    "print(\"Дисперсия:\",D_stat, D_eq_point)"
   ]
  },
  {
   "cell_type": "code",
   "execution_count": 66,
   "id": "d26f7137-443e-4777-a358-39453349d8aa",
   "metadata": {},
   "outputs": [
    {
     "name": "stdout",
     "output_type": "stream",
     "text": [
      "Центральный выборочный момент порядка 3 и 4: 1.119975957926398 292.55843147326\n"
     ]
    }
   ],
   "source": [
    "u3 = sum([(mid_intervals[i] - X_mid_eq_point) ** 3 * intervals_count[i] for i in range(len(mid_intervals))]) / n\n",
    "u4 = sum([(mid_intervals[i] - X_mid_eq_point) ** 4 * intervals_count[i] for i in range(len(mid_intervals))]) / n\n",
    "print(\"Центральный выборочный момент порядка 3 и 4:\", u3, u4)"
   ]
  },
  {
   "cell_type": "code",
   "execution_count": 67,
   "id": "d8c5fc4e-f0ac-4a67-8631-9f43dd6fa4fd",
   "metadata": {},
   "outputs": [
    {
     "name": "stdout",
     "output_type": "stream",
     "text": [
      "средне квадратичное отклонение: 3.382062552265705\n",
      "Выборочный коэффициент асимметрии: 0.02895101489062734\n",
      "Выборочный коэффициент эксцесса: -0.7639264939713075\n"
     ]
    }
   ],
   "source": [
    "d = math.sqrt(D_eq_point)\n",
    "As = u3 / (d ** 3)\n",
    "Ek = u4 / (d ** 4) - 3\n",
    "\n",
    "print(\"средне квадратичное отклонение:\", d)\n",
    "print(\"Выборочный коэффициент асимметрии:\", As)\n",
    "print(\"Выборочный коэффициент эксцесса:\", Ek)\n",
    "\n"
   ]
  }
 ],
 "metadata": {
  "kernelspec": {
   "display_name": "env",
   "language": "python",
   "name": "python3"
  },
  "language_info": {
   "codemirror_mode": {
    "name": "ipython",
    "version": 3
   },
   "file_extension": ".py",
   "mimetype": "text/x-python",
   "name": "python",
   "nbconvert_exporter": "python",
   "pygments_lexer": "ipython3",
   "version": "3.12.3"
  }
 },
 "nbformat": 4,
 "nbformat_minor": 5
}
